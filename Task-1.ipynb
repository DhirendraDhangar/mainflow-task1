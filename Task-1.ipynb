{
 "cells": [
  {
   "cell_type": "code",
   "execution_count": 3,
   "id": "4d0c88a8-814a-45b3-ba4a-f8f06c42bff6",
   "metadata": {},
   "outputs": [
    {
     "name": "stdout",
     "output_type": "stream",
     "text": [
      "new list: [10, 20, 40, 50, 70]\n"
     ]
    }
   ],
   "source": [
    "#creating list\n",
    "list_1=[10,20,30,40,50]\n",
    "\n",
    "#adding element into the list\n",
    "list_1.append(60)\n",
    "\n",
    "#remove element from the list\n",
    "list_1.remove(30)\n",
    "\n",
    "#modifying the list \n",
    "list_1[4]=70\n",
    "\n",
    "print(\"new list:\",list_1)\n",
    "\n"
   ]
  },
  {
   "cell_type": "code",
   "execution_count": 6,
   "id": "5edab407-23f4-47d8-9b66-531cb9fce00c",
   "metadata": {},
   "outputs": [
    {
     "name": "stdout",
     "output_type": "stream",
     "text": [
      "new dictionary: {'name': 'Dhirendra', 'college': 'LNCTE', 'branch': 'CSE'}\n"
     ]
    }
   ],
   "source": [
    "# creating dictionnary \n",
    "dictionary={\"name\":\"Dhirendra\",\"age\":21,\"college\":\"LNCT\"}\n",
    "\n",
    "#ADDING ELEMENT INTO THE DICTIONARY \n",
    "dictionary[\"branch\"]=\"CSE\"\n",
    "\n",
    "#DELETE THE KEY IN THE DICTIONARY\n",
    "del dictionary[\"age\"]\n",
    "\n",
    "#MODIFYING DICTIONARY\n",
    "dictionary[\"college\"]=\"LNCTE\"\n",
    "\n",
    "print(\"new dictionary:\",dictionary)\n"
   ]
  },
  {
   "cell_type": "code",
   "execution_count": 7,
   "id": "43f801f2-85d4-4d52-aa3e-1e9f70731178",
   "metadata": {},
   "outputs": [
    {
     "name": "stdout",
     "output_type": "stream",
     "text": [
      "new set: {'Dhangar', 'Dheeraj', 'name', 'my', 'is'}\n"
     ]
    }
   ],
   "source": [
    "# creating set \n",
    "meri_setting={\"hello\",\"my\",\"name\",\"is\",\"Dhirendra\"} \n",
    "\n",
    "# ADDING IN SET\n",
    "meri_setting.add(\"Dhangar\")\n",
    "\n",
    "#remove in set\n",
    "meri_setting.remove(\"hello\")\n",
    "\n",
    "#modify in set\n",
    "meri_setting.discard(\"Dhirendra\")\n",
    "meri_setting.add(\"Dheeraj\")\n",
    "\n",
    "print(\"new set:\",meri_setting)"
   ]
  }
 ],
 "metadata": {
  "kernelspec": {
   "display_name": "Python 3 (ipykernel)",
   "language": "python",
   "name": "python3"
  },
  "language_info": {
   "codemirror_mode": {
    "name": "ipython",
    "version": 3
   },
   "file_extension": ".py",
   "mimetype": "text/x-python",
   "name": "python",
   "nbconvert_exporter": "python",
   "pygments_lexer": "ipython3",
   "version": "3.12.3"
  }
 },
 "nbformat": 4,
 "nbformat_minor": 5
}
